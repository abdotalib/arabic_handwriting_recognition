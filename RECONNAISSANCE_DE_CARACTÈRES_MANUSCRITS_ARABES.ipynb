{
 "cells": [
  {
   "cell_type": "code",
   "execution_count": 1,
   "metadata": {
    "_cell_guid": "b1076dfc-b9ad-4769-8c92-a6c4dae69d19",
    "_uuid": "8f2839f25d086af736a60e9eeb907d3b93b6e0e5"
   },
   "outputs": [
    {
     "name": "stdout",
     "output_type": "stream",
     "text": [
      " tous les package exist \n"
     ]
    }
   ],
   "source": [
    "#import package \n",
    "import numpy as np\n",
    "import matplotlib.pyplot as plt\n",
    "import os\n",
    "import cv2\n",
    "from tqdm import tqdm\n",
    "import pandas as pd \n",
    "import cv2\n",
    "from scipy.ndimage import rotate\n"
   ]
  },
  {
   "cell_type": "code",
   "execution_count": 2,
   "metadata": {},
   "outputs": [
    {
     "data": {
      "image/png": "[encoded data removed]",
      "text/plain": [
       "<Figure size 432x288 with 10 Axes>"
      ]
     },
     "metadata": {
      "needs_background": "light"
     },
     "output_type": "display_data"
    }
   ],
   "source": [
    "#test des données\n",
    "DATADIR = \"C:/Users/hp/Desktop/ml1/archive_2/Train Images 13440x32x32/train\"\n",
    "path = os.listdir(DATADIR) \n",
    "\n",
    "width=50\n",
    "height=50\n",
    "rows = 2\n",
    "cols = 5\n",
    "axes=[]\n",
    "fig=plt.figure()\n",
    "\n",
    "for a in range(rows*cols):\n",
    "    img = np.random.randint(0,len(path))\n",
    "    axes.append( fig.add_subplot(rows, cols, a+1) )\n",
    "    img_array = cv2.imread(os.path.join(DATADIR,path[img]))\n",
    "    subplot_title=(img_array.shape)\n",
    "    axes[-1].set_title(subplot_title)  \n",
    "    plt.imshow(img_array)\n",
    "fig.tight_layout()\n",
    "plt.show()"
   ]
  },
  {
   "cell_type": "code",
   "execution_count": 3,
   "metadata": {
    "_cell_guid": "79c7e3d0-c299-4dcb-8224-4455121ee9b0",
    "_uuid": "d629ff2d2480ee46fbb7e2d37f6b5fab8052498a"
   },
   "outputs": [
    {
     "name": "stdout",
     "output_type": "stream",
     "text": [
      "train label shape : (13440, 1)\n",
      "test label shape : (3360, 1)\n"
     ]
    }
   ],
   "source": [
    "#load labels\n",
    "DATADIR = \"C:/Users/hp/Desktop/ml1/archive_2/\"\n",
    "df1 = pd.read_csv(os.path.join(DATADIR, 'csvTrainLabel 13440x1.csv'), header = None )\n",
    "\n",
    "df2 = pd.read_csv(os.path.join(DATADIR, 'csvTestLabel 3360x1.csv'), header = None)\n",
    "\n",
    "train_label = df1.values.astype('int32')-1\n",
    "test_label = df2.values.astype('int32')-1\n",
    "\n",
    "print('train label shape :', train_label.shape)\n",
    "print('test label shape :', test_label.shape)\n"
   ]
  },
  {
   "cell_type": "code",
   "execution_count": 4,
   "metadata": {},
   "outputs": [
    {
     "name": "stdout",
     "output_type": "stream",
     "text": [
      "train label shape : (13440, 1024)\n",
      "test label shape : (3360, 1024)\n"
     ]
    }
   ],
   "source": [
    "#load data\n",
    "X_train=pd.read_csv(\"C:/Users/hp/Desktop/ml1/archive_2/csvTrainImages.csv\", header = None)\n",
    "X_test=pd.read_csv(\"C:/Users/hp/Desktop/ml1/archive_2/csvTestImages 3360x1024.csv\", header = None)\n",
    "print('train label shape :', X_train.shape)\n",
    "print('test label shape :', X_test.shape)"
   ]
  },
  {
   "cell_type": "code",
   "execution_count": 6,
   "metadata": {},
   "outputs": [
    {
     "data": {
      "text/html": [
       "<div>\n",
       "<style scoped>\n",
       "    .dataframe tbody tr th:only-of-type {\n",
       "        vertical-align: middle;\n",
       "    }\n",
       "\n",
       "    .dataframe tbody tr th {\n",
       "        vertical-align: top;\n",
       "    }\n",
       "\n",
       "    .dataframe thead th {\n",
       "        text-align: right;\n",
       "    }\n",
       "</style>\n",
       "<table border=\"1\" class=\"dataframe\">\n",
       "  <thead>\n",
       "    <tr style=\"text-align: right;\">\n",
       "      <th></th>\n",
       "      <th>0</th>\n",
       "      <th>1</th>\n",
       "      <th>2</th>\n",
       "      <th>3</th>\n",
       "      <th>4</th>\n",
       "      <th>5</th>\n",
       "      <th>6</th>\n",
       "      <th>7</th>\n",
       "      <th>8</th>\n",
       "      <th>9</th>\n",
       "      <th>...</th>\n",
       "      <th>1014</th>\n",
       "      <th>1015</th>\n",
       "      <th>1016</th>\n",
       "      <th>1017</th>\n",
       "      <th>1018</th>\n",
       "      <th>1019</th>\n",
       "      <th>1020</th>\n",
       "      <th>1021</th>\n",
       "      <th>1022</th>\n",
       "      <th>1023</th>\n",
       "    </tr>\n",
       "  </thead>\n",
       "  <tbody>\n",
       "    <tr>\n",
       "      <th>0</th>\n",
       "      <td>0</td>\n",
       "      <td>0</td>\n",
       "      <td>0</td>\n",
       "      <td>0</td>\n",
       "      <td>0</td>\n",
       "      <td>0</td>\n",
       "      <td>0</td>\n",
       "      <td>0</td>\n",
       "      <td>0</td>\n",
       "      <td>0</td>\n",
       "      <td>...</td>\n",
       "      <td>0</td>\n",
       "      <td>0</td>\n",
       "      <td>0</td>\n",
       "      <td>0</td>\n",
       "      <td>0</td>\n",
       "      <td>0</td>\n",
       "      <td>0</td>\n",
       "      <td>0</td>\n",
       "      <td>0</td>\n",
       "      <td>0</td>\n",
       "    </tr>\n",
       "    <tr>\n",
       "      <th>1</th>\n",
       "      <td>0</td>\n",
       "      <td>0</td>\n",
       "      <td>0</td>\n",
       "      <td>0</td>\n",
       "      <td>0</td>\n",
       "      <td>0</td>\n",
       "      <td>0</td>\n",
       "      <td>0</td>\n",
       "      <td>0</td>\n",
       "      <td>0</td>\n",
       "      <td>...</td>\n",
       "      <td>0</td>\n",
       "      <td>0</td>\n",
       "      <td>0</td>\n",
       "      <td>0</td>\n",
       "      <td>0</td>\n",
       "      <td>0</td>\n",
       "      <td>0</td>\n",
       "      <td>0</td>\n",
       "      <td>0</td>\n",
       "      <td>0</td>\n",
       "    </tr>\n",
       "    <tr>\n",
       "      <th>2</th>\n",
       "      <td>0</td>\n",
       "      <td>0</td>\n",
       "      <td>0</td>\n",
       "      <td>0</td>\n",
       "      <td>0</td>\n",
       "      <td>0</td>\n",
       "      <td>0</td>\n",
       "      <td>0</td>\n",
       "      <td>0</td>\n",
       "      <td>0</td>\n",
       "      <td>...</td>\n",
       "      <td>0</td>\n",
       "      <td>0</td>\n",
       "      <td>0</td>\n",
       "      <td>0</td>\n",
       "      <td>0</td>\n",
       "      <td>0</td>\n",
       "      <td>0</td>\n",
       "      <td>0</td>\n",
       "      <td>0</td>\n",
       "      <td>0</td>\n",
       "    </tr>\n",
       "    <tr>\n",
       "      <th>3</th>\n",
       "      <td>0</td>\n",
       "      <td>0</td>\n",
       "      <td>0</td>\n",
       "      <td>0</td>\n",
       "      <td>0</td>\n",
       "      <td>0</td>\n",
       "      <td>0</td>\n",
       "      <td>0</td>\n",
       "      <td>0</td>\n",
       "      <td>0</td>\n",
       "      <td>...</td>\n",
       "      <td>0</td>\n",
       "      <td>0</td>\n",
       "      <td>0</td>\n",
       "      <td>0</td>\n",
       "      <td>0</td>\n",
       "      <td>0</td>\n",
       "      <td>0</td>\n",
       "      <td>0</td>\n",
       "      <td>0</td>\n",
       "      <td>0</td>\n",
       "    </tr>\n",
       "    <tr>\n",
       "      <th>4</th>\n",
       "      <td>0</td>\n",
       "      <td>0</td>\n",
       "      <td>0</td>\n",
       "      <td>0</td>\n",
       "      <td>0</td>\n",
       "      <td>0</td>\n",
       "      <td>0</td>\n",
       "      <td>0</td>\n",
       "      <td>0</td>\n",
       "      <td>0</td>\n",
       "      <td>...</td>\n",
       "      <td>0</td>\n",
       "      <td>0</td>\n",
       "      <td>0</td>\n",
       "      <td>0</td>\n",
       "      <td>0</td>\n",
       "      <td>0</td>\n",
       "      <td>0</td>\n",
       "      <td>0</td>\n",
       "      <td>0</td>\n",
       "      <td>0</td>\n",
       "    </tr>\n",
       "  </tbody>\n",
       "</table>\n",
       "<p>5 rows × 1024 columns</p>\n",
       "</div>"
      ],
      "text/plain": [
       "   0     1     2     3     4     5     6     7     8     9     ...  1014  \\\n",
       "0     0     0     0     0     0     0     0     0     0     0  ...     0   \n",
       "1     0     0     0     0     0     0     0     0     0     0  ...     0   \n",
       "2     0     0     0     0     0     0     0     0     0     0  ...     0   \n",
       "3     0     0     0     0     0     0     0     0     0     0  ...     0   \n",
       "4     0     0     0     0     0     0     0     0     0     0  ...     0   \n",
       "\n",
       "   1015  1016  1017  1018  1019  1020  1021  1022  1023  \n",
       "0     0     0     0     0     0     0     0     0     0  \n",
       "1     0     0     0     0     0     0     0     0     0  \n",
       "2     0     0     0     0     0     0     0     0     0  \n",
       "3     0     0     0     0     0     0     0     0     0  \n",
       "4     0     0     0     0     0     0     0     0     0  \n",
       "\n",
       "[5 rows x 1024 columns]"
      ]
     },
     "execution_count": 6,
     "metadata": {},
     "output_type": "execute_result"
    }
   ],
   "source": [
    "X_train.head()"
   ]
  },
  {
   "cell_type": "code",
   "execution_count": 9,
   "metadata": {},
   "outputs": [],
   "source": [
    "x_train=X_train.values\n",
    "x_test=X_test.values\n"
   ]
  },
  {
   "cell_type": "code",
   "execution_count": 10,
   "metadata": {},
   "outputs": [
    {
     "data": {
      "image/png": "[encoded data removed]",
      "text/plain": [
       "<Figure size 432x288 with 10 Axes>"
      ]
     },
     "metadata": {
      "needs_background": "light"
     },
     "output_type": "display_data"
    }
   ],
   "source": [
    "#image avant la rotation\n",
    "axes2=[]\n",
    "fig2=plt.figure()\n",
    "\n",
    "for a in range(rows*cols):\n",
    "    img = np.random.randint(0,len(path))\n",
    "    axes2.append( fig2.add_subplot(rows, cols, a+1) )\n",
    "    img_array = x_train[img].reshape([32,32])\n",
    "    subplot_title=(img_array.shape)\n",
    "    axes[-1].set_title(subplot_title)  \n",
    "    plt.imshow(img_array)\n",
    "fig.tight_layout()\n",
    "plt.show()"
   ]
  },
  {
   "cell_type": "code",
   "execution_count": 11,
   "metadata": {},
   "outputs": [],
   "source": [
    "#fonction pour rotationner les images\n",
    "def rotation_data(nparray):\n",
    "    i = 0\n",
    "    for img_arr in nparray:\n",
    "        \n",
    "        img_arr = img_arr.reshape([ 32, 32])\n",
    "        img_arr = np.flip(img_arr, 0)\n",
    "        img_arr = rotate(img_arr, -90)\n",
    "        img_arr = img_arr.reshape([1024])\n",
    "        nparray[i] = img_arr\n",
    "        i = i+1\n",
    "    return nparray"
   ]
  },
  {
   "cell_type": "code",
   "execution_count": 12,
   "metadata": {},
   "outputs": [],
   "source": [
    "x_train=rotation_data(x_train)\n",
    "x_test=rotation_data(x_test)"
   ]
  },
  {
   "cell_type": "code",
   "execution_count": 14,
   "metadata": {},
   "outputs": [
    {
     "data": {
      "image/png": "[encoded data removed]",
      "text/plain": [
       "<Figure size 432x288 with 10 Axes>"
      ]
     },
     "metadata": {
      "needs_background": "light"
     },
     "output_type": "display_data"
    }
   ],
   "source": [
    "#image apres la rotation\n",
    "axes3=[]\n",
    "fig3=plt.figure()\n",
    "\n",
    "for a in range(rows*cols):\n",
    "    img = np.random.randint(0,len(path))\n",
    "    axes3.append( fig3.add_subplot(rows, cols, a+1) )\n",
    "    img_array = x_train[img].reshape([32,32])\n",
    "    subplot_title=(img_array.shape)\n",
    "    axes[-1].set_title(subplot_title)  \n",
    "    plt.imshow(img_array)\n",
    "fig.tight_layout()\n",
    "plt.show()"
   ]
  },
  {
   "cell_type": "code",
   "execution_count": 15,
   "metadata": {},
   "outputs": [],
   "source": [
    "#redimentionner data \n",
    "x_train_reshaped=x_train.reshape([-1,32,32,1])\n",
    "x_test_reshaped=x_test.reshape([-1,32,32,1])"
   ]
  },
  {
   "cell_type": "code",
   "execution_count": 17,
   "metadata": {},
   "outputs": [],
   "source": [
    "#normalisé les données\n",
    "x_mean=x_train_reshaped.mean()\n",
    "x_std=x_train_reshaped.std()\n",
    "x_test_norm=(x_test_reshaped-x_mean)/x_std\n",
    "x_train_norm=(x_train_reshaped-x_mean)/x_std"
   ]
  },
  {
   "cell_type": "code",
   "execution_count": 18,
   "metadata": {},
   "outputs": [
    {
     "data": {
      "text/plain": [
       "(32, 32, 1)"
      ]
     },
     "execution_count": 18,
     "metadata": {},
     "output_type": "execute_result"
    }
   ],
   "source": [
    "x_train_norm[0].shape"
   ]
  },
  {
   "cell_type": "code",
   "execution_count": 19,
   "metadata": {},
   "outputs": [],
   "source": [
    "import tensorflow as tf\n",
    "from tensorflow.keras.datasets import cifar10\n",
    "from tensorflow.keras.preprocessing.image import ImageDataGenerator\n",
    "from tensorflow.keras.models import Sequential\n",
    "from tensorflow.keras.layers import Dense, Dropout, Activation, Flatten\n",
    "from tensorflow.keras.layers import Conv2D, MaxPooling2D\n",
    "from tensorflow.keras import regularizers"
   ]
  },
  {
   "cell_type": "code",
   "execution_count": 20,
   "metadata": {},
   "outputs": [],
   "source": [
    "#build model \n",
    "model=  tf.keras.Sequential([\n",
    "    tf.keras.layers.Conv2D(64,(3,3),input_shape=[32,32,1],activation=\"relu\",kernel_regularizer=regularizers.l2(0.001)),#for regularization\n",
    "    tf.keras.layers.MaxPooling2D(2,2),\n",
    "    tf.keras.layers.Conv2D(64,(3,3),activation=\"relu\", kernel_regularizer=regularizers.l2(0.001)),\n",
    "    tf.keras.layers.MaxPooling2D(2,2),\n",
    "    tf.keras.layers.Conv2D(64,(3,3),activation=\"relu\", kernel_regularizer=regularizers.l2(0.001)),\n",
    "    tf.keras.layers.MaxPooling2D(2,2),\n",
    "    tf.keras.layers.Flatten(),\n",
    "    tf.keras.layers.Dense(64,activation=\"relu\", kernel_regularizer=regularizers.l2(0.001)),\n",
    "    tf.keras.layers.Dropout(0.2),\n",
    "    tf.keras.layers.Dense(64,activation=\"relu\", kernel_regularizer=regularizers.l2(0.001)),\n",
    "    tf.keras.layers.Dropout(0.2),\n",
    "    tf.keras.layers.Dense(29,activation=\"softmax\")\n",
    "])"
   ]
  },
  {
   "cell_type": "code",
   "execution_count": 21,
   "metadata": {},
   "outputs": [],
   "source": [
    "model.compile(metrics=[\"accuracy\"], loss=\"sparse_categorical_crossentropy\",optimizer=\"adam\" )"
   ]
  },
  {
   "cell_type": "code",
   "execution_count": 22,
   "metadata": {},
   "outputs": [
    {
     "name": "stdout",
     "output_type": "stream",
     "text": [
      "Model: \"sequential\"\n",
      "_________________________________________________________________\n",
      "Layer (type)                 Output Shape              Param #   \n",
      "=================================================================\n",
      "conv2d (Conv2D)              (None, 30, 30, 64)        640       \n",
      "_________________________________________________________________\n",
      "max_pooling2d (MaxPooling2D) (None, 15, 15, 64)        0         \n",
      "_________________________________________________________________\n",
      "conv2d_1 (Conv2D)            (None, 13, 13, 64)        36928     \n",
      "_________________________________________________________________\n",
      "max_pooling2d_1 (MaxPooling2 (None, 6, 6, 64)          0         \n",
      "_________________________________________________________________\n",
      "conv2d_2 (Conv2D)            (None, 4, 4, 64)          36928     \n",
      "_________________________________________________________________\n",
      "max_pooling2d_2 (MaxPooling2 (None, 2, 2, 64)          0         \n",
      "_________________________________________________________________\n",
      "flatten (Flatten)            (None, 256)               0         \n",
      "_________________________________________________________________\n",
      "dense (Dense)                (None, 64)                16448     \n",
      "_________________________________________________________________\n",
      "dropout (Dropout)            (None, 64)                0         \n",
      "_________________________________________________________________\n",
      "dense_1 (Dense)              (None, 64)                4160      \n",
      "_________________________________________________________________\n",
      "dropout_1 (Dropout)          (None, 64)                0         \n",
      "_________________________________________________________________\n",
      "dense_2 (Dense)              (None, 29)                1885      \n",
      "=================================================================\n",
      "Total params: 96,989\n",
      "Trainable params: 96,989\n",
      "Non-trainable params: 0\n",
      "_________________________________________________________________\n"
     ]
    }
   ],
   "source": [
    "model.summary()"
   ]
  },
  {
   "cell_type": "code",
   "execution_count": 23,
   "metadata": {
    "scrolled": true
   },
   "outputs": [
    {
     "name": "stdout",
     "output_type": "stream",
     "text": [
      "Epoch 1/18\n",
      "313/313 [==============================] - 20s 62ms/step - loss: 3.1528 - accuracy: 0.1370 - val_loss: 1.5001 - val_accuracy: 0.5558\n",
      "Epoch 2/18\n",
      "313/313 [==============================] - 17s 56ms/step - loss: 1.5901 - accuracy: 0.5028 - val_loss: 1.0004 - val_accuracy: 0.7294\n",
      "Epoch 3/18\n",
      "313/313 [==============================] - 17s 55ms/step - loss: 1.1388 - accuracy: 0.6740 - val_loss: 0.8054 - val_accuracy: 0.8067\n",
      "Epoch 4/18\n",
      "313/313 [==============================] - 19s 60ms/step - loss: 0.9364 - accuracy: 0.7487 - val_loss: 0.7370 - val_accuracy: 0.8343\n",
      "Epoch 5/18\n",
      "313/313 [==============================] - 18s 56ms/step - loss: 0.7882 - accuracy: 0.8043 - val_loss: 0.6506 - val_accuracy: 0.8637\n",
      "Epoch 6/18\n",
      "313/313 [==============================] - 17s 55ms/step - loss: 0.7020 - accuracy: 0.8385 - val_loss: 0.6327 - val_accuracy: 0.8698\n",
      "Epoch 7/18\n",
      "313/313 [==============================] - 19s 62ms/step - loss: 0.6424 - accuracy: 0.8659 - val_loss: 0.6074 - val_accuracy: 0.8849\n",
      "Epoch 8/18\n",
      "313/313 [==============================] - 19s 60ms/step - loss: 0.5740 - accuracy: 0.8889 - val_loss: 0.5927 - val_accuracy: 0.8837\n",
      "Epoch 9/18\n",
      "313/313 [==============================] - 17s 55ms/step - loss: 0.5618 - accuracy: 0.8916 - val_loss: 0.6396 - val_accuracy: 0.8663\n",
      "Epoch 10/18\n",
      "313/313 [==============================] - 17s 54ms/step - loss: 0.5217 - accuracy: 0.9092 - val_loss: 0.5827 - val_accuracy: 0.8962\n",
      "Epoch 11/18\n",
      "313/313 [==============================] - 17s 55ms/step - loss: 0.4872 - accuracy: 0.9183 - val_loss: 0.5839 - val_accuracy: 0.8924\n",
      "Epoch 12/18\n",
      "313/313 [==============================] - 17s 55ms/step - loss: 0.4609 - accuracy: 0.9286 - val_loss: 0.6028 - val_accuracy: 0.8936\n",
      "Epoch 13/18\n",
      "313/313 [==============================] - 17s 56ms/step - loss: 0.4669 - accuracy: 0.9248 - val_loss: 0.5903 - val_accuracy: 0.9009\n",
      "Epoch 14/18\n",
      "313/313 [==============================] - 17s 55ms/step - loss: 0.4491 - accuracy: 0.9307 - val_loss: 0.5996 - val_accuracy: 0.8890\n",
      "Epoch 15/18\n",
      "313/313 [==============================] - 18s 58ms/step - loss: 0.4287 - accuracy: 0.9449 - val_loss: 0.5320 - val_accuracy: 0.9137\n",
      "Epoch 16/18\n",
      "313/313 [==============================] - 19s 59ms/step - loss: 0.4193 - accuracy: 0.9418 - val_loss: 0.5225 - val_accuracy: 0.9203\n",
      "Epoch 17/18\n",
      "313/313 [==============================] - 22s 70ms/step - loss: 0.4110 - accuracy: 0.9451 - val_loss: 0.5226 - val_accuracy: 0.9116\n",
      "Epoch 18/18\n",
      "313/313 [==============================] - 18s 58ms/step - loss: 0.3940 - accuracy: 0.9513 - val_loss: 0.5515 - val_accuracy: 0.9076\n"
     ]
    }
   ],
   "source": [
    "history = model.fit(x_train_norm[:10000], \n",
    "                    train_label[:10000] ,\n",
    "                    validation_data=(x_train_norm[10000:], train_label[10000:]),\n",
    "                    epochs=18)"
   ]
  },
  {
   "cell_type": "code",
   "execution_count": 24,
   "metadata": {},
   "outputs": [
    {
     "data": {
      "image/png": "[encoded data removed]",
      "text/plain": [
       "<Figure size 432x288 with 1 Axes>"
      ]
     },
     "metadata": {
      "needs_background": "light"
     },
     "output_type": "display_data"
    },
    {
     "data": {
      "image/png": "[encoded data removed]",
      "text/plain": [
       "<Figure size 432x288 with 1 Axes>"
      ]
     },
     "metadata": {
      "needs_background": "light"
     },
     "output_type": "display_data"
    }
   ],
   "source": [
    "# summarize history for accuracy\n",
    "plt.plot(history.history['accuracy'])\n",
    "plt.plot(history.history['val_accuracy'])\n",
    "plt.title('model accuracy')\n",
    "plt.ylabel('accuracy')\n",
    "plt.xlabel('epoch')\n",
    "plt.legend(['train', 'test'], loc='upper left')\n",
    "plt.show()\n",
    "# summarize history for loss\n",
    "plt.plot(history.history['loss'])\n",
    "plt.plot(history.history['val_loss'])\n",
    "plt.title('model loss')\n",
    "plt.ylabel('loss')\n",
    "plt.xlabel('epoch')\n",
    "plt.legend(['train', 'test'], loc='upper left')\n",
    "plt.show()"
   ]
  },
  {
   "cell_type": "code",
   "execution_count": 25,
   "metadata": {},
   "outputs": [
    {
     "name": "stdout",
     "output_type": "stream",
     "text": [
      "105/105 [==============================] - 2s 20ms/step - loss: 0.4704 - accuracy: 0.9289\n",
      "Test accuarcy: 92.89%\n"
     ]
    }
   ],
   "source": [
    "score = model.evaluate(x_test_norm, test_label)\n",
    "print('Test accuarcy: %0.2f%%' % (score[1] * 100))"
   ]
  },
  {
   "cell_type": "code",
   "execution_count": 26,
   "metadata": {},
   "outputs": [
    {
     "name": "stdout",
     "output_type": "stream",
     "text": [
      "INFO:tensorflow:Assets written to: arabic_recognition1.model\\assets\n"
     ]
    }
   ],
   "source": [
    "model.save(\"arabic_recognition1.model\")"
   ]
  },
  {
   "cell_type": "code",
   "execution_count": 27,
   "metadata": {},
   "outputs": [],
   "source": [
    "new_model = tf.keras.models.load_model('arabic_recognition2.model')"
   ]
  },
  {
   "cell_type": "code",
   "execution_count": 28,
   "metadata": {},
   "outputs": [
    {
     "name": "stdout",
     "output_type": "stream",
     "text": [
      "105/105 [==============================] - 2s 18ms/step - loss: 0.4542 - accuracy: 0.9333\n",
      "Test accuarcy: 93.33%\n"
     ]
    }
   ],
   "source": [
    "score = new_model.evaluate(x_test_norm, test_label)\n",
    "print('Test accuarcy: %0.2f%%' % (score[1] * 100))"
   ]
  },
  {
   "cell_type": "code",
   "execution_count": 29,
   "metadata": {},
   "outputs": [],
   "source": [
    "lettre = []\n",
    "for i in range(0,36):\n",
    "    #print(chr(1575+i), i)\n",
    "    lettre.append(chr(1575+i))\n",
    "p = [2, 21, 22, 23, 24, 25, 34]\n",
    "lettre.remove('ة')\n",
    "lettre.remove('ؼ')\n",
    "lettre.remove('ؽ')\n",
    "lettre.remove('ؾ')\n",
    "lettre.remove('ؿ')\n",
    "lettre.remove('ـ')\n",
    "lettre.remove('ى')\n",
    "lettre.remove('ػ')\n"
   ]
  },
  {
   "cell_type": "code",
   "execution_count": 31,
   "metadata": {},
   "outputs": [],
   "source": [
    "predict = new_model.predict(x_test_norm)\n",
    "predict = list(map(np.argmax, predict))\n",
    "\n",
    "unique, counts = np.unique(predict, return_counts=True)\n",
    "unique2, counts2 = np.unique(test_label, return_counts=True)"
   ]
  },
  {
   "cell_type": "code",
   "execution_count": 33,
   "metadata": {},
   "outputs": [
    {
     "data": {
      "image/png": "[encoded data removed]",
      "text/plain": [
       "<Figure size 720x432 with 1 Axes>"
      ]
     },
     "metadata": {
      "needs_background": "light"
     },
     "output_type": "display_data"
    }
   ],
   "source": [
    "\n",
    "x = np.arange(len(lettre))  # the label locations\n",
    "width = 0.35  # the width of the bars\n",
    "\n",
    "fig, ax = plt.subplots(figsize=(10,6))\n",
    "rects1 = ax.bar(unique - width/2, counts, width, label='predict')\n",
    "rects2 = ax.bar(unique2 + width/2, counts2, width, label='target')\n",
    "\n",
    "ax.set_title('difference entre valeur but et predit')\n",
    "ax.set_xticks(x)\n",
    "ax.set_xticklabels(lettre)\n",
    "ax.legend()\n",
    "\n",
    "fig.tight_layout()\n",
    "\n",
    "plt.show()"
   ]
  }
 ],
 "metadata": {
  "kernelspec": {
   "display_name": "Python 3",
   "language": "python",
   "name": "python3"
  },
  "language_info": {
   "codemirror_mode": {
    "name": "ipython",
    "version": 3
   },
   "file_extension": ".py",
   "mimetype": "text/x-python",
   "name": "python",
   "nbconvert_exporter": "python",
   "pygments_lexer": "ipython3",
   "version": "3.7.6"
  }
 },
 "nbformat": 4,
 "nbformat_minor": 4
}
